{
 "cells": [
  {
   "cell_type": "code",
   "execution_count": 3,
   "metadata": {},
   "outputs": [
    {
     "name": "stdout",
     "output_type": "stream",
     "text": [
      "\n",
      "\u001b[1m[\u001b[0m\u001b[34;49mnotice\u001b[0m\u001b[1;39;49m]\u001b[0m\u001b[39;49m A new release of pip is available: \u001b[0m\u001b[31;49m24.2\u001b[0m\u001b[39;49m -> \u001b[0m\u001b[32;49m24.3.1\u001b[0m\n",
      "\u001b[1m[\u001b[0m\u001b[34;49mnotice\u001b[0m\u001b[1;39;49m]\u001b[0m\u001b[39;49m To update, run: \u001b[0m\u001b[32;49mpip3 install --upgrade pip\u001b[0m\n",
      "Note: you may need to restart the kernel to use updated packages.\n",
      "\n",
      "\u001b[1m[\u001b[0m\u001b[34;49mnotice\u001b[0m\u001b[1;39;49m]\u001b[0m\u001b[39;49m A new release of pip is available: \u001b[0m\u001b[31;49m24.2\u001b[0m\u001b[39;49m -> \u001b[0m\u001b[32;49m24.3.1\u001b[0m\n",
      "\u001b[1m[\u001b[0m\u001b[34;49mnotice\u001b[0m\u001b[1;39;49m]\u001b[0m\u001b[39;49m To update, run: \u001b[0m\u001b[32;49mpip3 install --upgrade pip\u001b[0m\n",
      "Note: you may need to restart the kernel to use updated packages.\n",
      "Collecting python-dotenv\n",
      "  Using cached python_dotenv-1.0.1-py3-none-any.whl.metadata (23 kB)\n",
      "Using cached python_dotenv-1.0.1-py3-none-any.whl (19 kB)\n",
      "Installing collected packages: python-dotenv\n",
      "Successfully installed python-dotenv-1.0.1\n",
      "\n",
      "\u001b[1m[\u001b[0m\u001b[34;49mnotice\u001b[0m\u001b[1;39;49m]\u001b[0m\u001b[39;49m A new release of pip is available: \u001b[0m\u001b[31;49m24.2\u001b[0m\u001b[39;49m -> \u001b[0m\u001b[32;49m24.3.1\u001b[0m\n",
      "\u001b[1m[\u001b[0m\u001b[34;49mnotice\u001b[0m\u001b[1;39;49m]\u001b[0m\u001b[39;49m To update, run: \u001b[0m\u001b[32;49mpip3 install --upgrade pip\u001b[0m\n",
      "Note: you may need to restart the kernel to use updated packages.\n"
     ]
    },
    {
     "data": {
      "text/plain": [
       "True"
      ]
     },
     "execution_count": 3,
     "metadata": {},
     "output_type": "execute_result"
    }
   ],
   "source": [
    "%pip install langchain-core langgraph>0.2.27\n",
    "%pip install -qU langchain-google-vertexai\n",
    "%pip install python-dotenv\n",
    "\n",
    "from dotenv import load_dotenv\n",
    "load_dotenv()"
   ]
  },
  {
   "cell_type": "code",
   "execution_count": null,
   "metadata": {},
   "outputs": [
    {
     "data": {
      "text/plain": [
       "AIMessage(content='Champú \\n', additional_kwargs={}, response_metadata={'is_blocked': False, 'safety_ratings': [{'category': 'HARM_CATEGORY_HATE_SPEECH', 'probability_label': 'NEGLIGIBLE', 'blocked': False, 'severity': 'HARM_SEVERITY_NEGLIGIBLE'}, {'category': 'HARM_CATEGORY_DANGEROUS_CONTENT', 'probability_label': 'NEGLIGIBLE', 'blocked': False, 'severity': 'HARM_SEVERITY_LOW'}, {'category': 'HARM_CATEGORY_HARASSMENT', 'probability_label': 'NEGLIGIBLE', 'blocked': False, 'severity': 'HARM_SEVERITY_NEGLIGIBLE'}, {'category': 'HARM_CATEGORY_SEXUALLY_EXPLICIT', 'probability_label': 'NEGLIGIBLE', 'blocked': False, 'severity': 'HARM_SEVERITY_NEGLIGIBLE'}], 'usage_metadata': {'prompt_token_count': 158, 'candidates_token_count': 4, 'total_token_count': 162, 'cached_content_token_count': 0}, 'finish_reason': 'STOP', 'avg_logprobs': -0.0006307683070190251, 'logprobs_result': {'top_candidates': [], 'chosen_candidates': []}}, id='run-54c32b32-eeb9-4b73-b4ba-4dfc07365662-0', usage_metadata={'input_tokens': 158, 'output_tokens': 4, 'total_tokens': 162})"
      ]
     },
     "execution_count": 33,
     "metadata": {},
     "output_type": "execute_result"
    }
   ],
   "source": [
    "from langchain_google_vertexai import ChatVertexAI\n",
    "from langchain_core.messages import SystemMessage, HumanMessage\n",
    "from langchain_core.prompts import ChatPromptTemplate, MessagesPlaceholder\n",
    "\n",
    "llm = ChatVertexAI(model = \"gemini-1.5-pro\", temperature = 0)\n",
    "\n",
    "system_message = \"\"\"\n",
    "Eres la primera capa de un chatbot que ayuda a farmacéuticos a identificar productos que solicitan clientes que vienen a la farmacia. \n",
    "Tu objetivo es solamente identificar la categoría del producto que se está demandando.\n",
    "Ejemplos:\n",
    "- Input: \"Jarabe para la tos seca apto para diabéticos.\"\n",
    "  Respuesta esperada: \"Jarabe\"\n",
    "- Input: \"Una pasta de dientes para niños alérgicos al flúor\"\n",
    "  Respuesta esperada: \"Pasta de dientes\"\n",
    "- Input: \"Una crema hidratante con veneno de serpiente\"\n",
    "  Respuesta esperada: \"Crema\"\n",
    "- Input: \"Piruletas para la gargante\"\n",
    "  Respuesta esperada: \"Piruletas\"\n",
    "\"\"\"\n",
    "\n",
    "system_message = \"\"\"\n",
    "Eres la primera capa de un chatbot que ayuda a farmacéuticos a identificar productos que solicitan clientes que vienen a la farmacia. \n",
    "Tu objetivo es solamente identificar la categoría del producto que se está demandando. Debes elegir entre las siguientes categorias:\n",
    "- Ortopedia: Productos de ortopedia como bastones, muletas, conteras, empuñadoras, fajas lumbares y fajas en general, collarines y cosas del estilo que se acoplen a partes del cuerpo humano o a utensilios que estos puedan utilizar.\n",
    "- Ojos: Productos para ojos como colirio, gafas presbicia, gafas solares, soluciones lentes, limpieza ocular, parches oculares, otros óptica, audiología.\n",
    "\n",
    "Ejemplos:\n",
    "- Input: Andador regulable para persona mayor con problemas de cadera\n",
    "  Respuesta esperada: Ortopedia\n",
    "- Input: Collarin para lesión en el cuello\n",
    "  Respuesta esperada: Ortopedia\n",
    "- Input\n",
    "\n",
    "\n",
    "- Input: \"Jarabe para la tos seca apto para diabéticos.\"\n",
    "  Respuesta esperada: \"Jarabe\"\n",
    "- Input: \"Una pasta de dientes para niños alérgicos al flúor\"\n",
    "  Respuesta esperada: \"Pasta de dientes\"\n",
    "- Input: \"Una crema hidratante con veneno de serpiente\"\n",
    "  Respuesta esperada: \"Crema\"\n",
    "- Input: \"Piruletas para la gargante\"\n",
    "  Respuesta esperada: \"Piruletas\"\n",
    "\"\"\"\n",
    "\n",
    "prompt = ChatPromptTemplate.from_messages(    \n",
    "    [\n",
    "    SystemMessage(content=system_message),\n",
    "    MessagesPlaceholder(variable_name=\"messages\") # Para mantener historial de conversación usamos MessagesPlaceholder\n",
    "    ]\n",
    ")\n",
    "\n",
    "messages_static = [\n",
    "    SystemMessage(content=system_message),\n",
    "    HumanMessage(content=\"champú anticaida para cabellos grasos\")\n",
    "    ]\n",
    "\n",
    "llm.invoke(messages_static)\n"
   ]
  },
  {
   "cell_type": "code",
   "execution_count": 34,
   "metadata": {},
   "outputs": [],
   "source": [
    "from langgraph.checkpoint.memory import MemorySaver\n",
    "from langgraph.graph import START, MessagesState, StateGraph\n",
    "\n",
    "workflow = StateGraph(state_schema=MessagesState)\n",
    "\n",
    "def call_model(state: MessagesState):\n",
    "    chain = prompt | llm\n",
    "    response = chain.invoke(state)\n",
    "    return {\"messages\": response}\n",
    "\n",
    "workflow.add_edge(START,\"model\")\n",
    "workflow.add_node(\"model\",call_model)\n",
    "\n",
    "memory = MemorySaver()\n",
    "\n",
    "app = workflow.compile(checkpointer = memory)"
   ]
  },
  {
   "cell_type": "code",
   "execution_count": 40,
   "metadata": {},
   "outputs": [
    {
     "name": "stdout",
     "output_type": "stream",
     "text": [
      "{'messages': [HumanMessage(content='Quiero una crema con veneno de serpiente', additional_kwargs={}, response_metadata={}, id='9547852d-9565-4d71-afeb-bef1b730b407'), AIMessage(content='Crema \\n', additional_kwargs={}, response_metadata={'is_blocked': False, 'safety_ratings': [{'category': 'HARM_CATEGORY_HATE_SPEECH', 'probability_label': 'NEGLIGIBLE', 'blocked': False, 'severity': 'HARM_SEVERITY_NEGLIGIBLE'}, {'category': 'HARM_CATEGORY_DANGEROUS_CONTENT', 'probability_label': 'LOW', 'blocked': False, 'severity': 'HARM_SEVERITY_HIGH'}, {'category': 'HARM_CATEGORY_HARASSMENT', 'probability_label': 'NEGLIGIBLE', 'blocked': False, 'severity': 'HARM_SEVERITY_LOW'}, {'category': 'HARM_CATEGORY_SEXUALLY_EXPLICIT', 'probability_label': 'NEGLIGIBLE', 'blocked': False, 'severity': 'HARM_SEVERITY_NEGLIGIBLE'}], 'usage_metadata': {'prompt_token_count': 156, 'candidates_token_count': 3, 'total_token_count': 159, 'cached_content_token_count': 0}, 'finish_reason': 'STOP', 'avg_logprobs': -0.0027990080416202545, 'logprobs_result': {'top_candidates': [], 'chosen_candidates': []}}, id='run-2873d6e6-71b7-461a-a03a-762a22d5c1ed-0', usage_metadata={'input_tokens': 156, 'output_tokens': 3, 'total_tokens': 159})]}\n",
      "{'messages': [HumanMessage(content='Quiero una crema con veneno de serpiente', additional_kwargs={}, response_metadata={}, id='9547852d-9565-4d71-afeb-bef1b730b407'), AIMessage(content='Crema \\n', additional_kwargs={}, response_metadata={'is_blocked': False, 'safety_ratings': [{'category': 'HARM_CATEGORY_HATE_SPEECH', 'probability_label': 'NEGLIGIBLE', 'blocked': False, 'severity': 'HARM_SEVERITY_NEGLIGIBLE'}, {'category': 'HARM_CATEGORY_DANGEROUS_CONTENT', 'probability_label': 'LOW', 'blocked': False, 'severity': 'HARM_SEVERITY_HIGH'}, {'category': 'HARM_CATEGORY_HARASSMENT', 'probability_label': 'NEGLIGIBLE', 'blocked': False, 'severity': 'HARM_SEVERITY_LOW'}, {'category': 'HARM_CATEGORY_SEXUALLY_EXPLICIT', 'probability_label': 'NEGLIGIBLE', 'blocked': False, 'severity': 'HARM_SEVERITY_NEGLIGIBLE'}], 'usage_metadata': {'prompt_token_count': 156, 'candidates_token_count': 3, 'total_token_count': 159, 'cached_content_token_count': 0}, 'finish_reason': 'STOP', 'avg_logprobs': -0.0027990080416202545, 'logprobs_result': {'top_candidates': [], 'chosen_candidates': []}}, id='run-2873d6e6-71b7-461a-a03a-762a22d5c1ed-0', usage_metadata={'input_tokens': 156, 'output_tokens': 3, 'total_tokens': 159}), HumanMessage(content='Quiero una pasta de dientes para niños', additional_kwargs={}, response_metadata={}, id='47e5fc7d-da5f-48ec-9b2e-a192245dcc79'), AIMessage(content='Pasta de dientes \\n', additional_kwargs={}, response_metadata={'is_blocked': False, 'safety_ratings': [{'category': 'HARM_CATEGORY_HATE_SPEECH', 'probability_label': 'NEGLIGIBLE', 'blocked': False, 'severity': 'HARM_SEVERITY_NEGLIGIBLE'}, {'category': 'HARM_CATEGORY_DANGEROUS_CONTENT', 'probability_label': 'NEGLIGIBLE', 'blocked': False, 'severity': 'HARM_SEVERITY_LOW'}, {'category': 'HARM_CATEGORY_HARASSMENT', 'probability_label': 'NEGLIGIBLE', 'blocked': False, 'severity': 'HARM_SEVERITY_NEGLIGIBLE'}, {'category': 'HARM_CATEGORY_SEXUALLY_EXPLICIT', 'probability_label': 'NEGLIGIBLE', 'blocked': False, 'severity': 'HARM_SEVERITY_NEGLIGIBLE'}], 'usage_metadata': {'prompt_token_count': 166, 'candidates_token_count': 5, 'total_token_count': 171, 'cached_content_token_count': 0}, 'finish_reason': 'STOP', 'avg_logprobs': -0.0004360795952379704, 'logprobs_result': {'top_candidates': [], 'chosen_candidates': []}}, id='run-b9562e1f-1cdf-44d9-b254-84d4c15e4c4f-0', usage_metadata={'input_tokens': 166, 'output_tokens': 5, 'total_tokens': 171})]}\n"
     ]
    }
   ],
   "source": [
    "from langchain_core.output_parsers import StrOutputParser\n",
    "\n",
    "parser = StrOutputParser()\n",
    "\n",
    "config = {\"configurable\": {\"thread_id\": \"abc3456\"}}\n",
    "\n",
    "query = \"Quiero una crema con veneno de serpiente\"\n",
    "input = [HumanMessage(content=query)]\n",
    "\n",
    "output = app.invoke({\"messages\": input}, config)\n",
    "print(output)\n",
    "\n",
    "query2 = \"Quiero una pasta de dientes para niños\"\n",
    "input2 = [HumanMessage(content=query2)]\n",
    "\n",
    "output2 = app.invoke({\"messages\":input2},config)\n",
    "print(output2)\n"
   ]
  }
 ],
 "metadata": {
  "kernelspec": {
   "display_name": "Python 3",
   "language": "python",
   "name": "python3"
  },
  "language_info": {
   "codemirror_mode": {
    "name": "ipython",
    "version": 3
   },
   "file_extension": ".py",
   "mimetype": "text/x-python",
   "name": "python",
   "nbconvert_exporter": "python",
   "pygments_lexer": "ipython3",
   "version": "3.12.4"
  }
 },
 "nbformat": 4,
 "nbformat_minor": 2
}
